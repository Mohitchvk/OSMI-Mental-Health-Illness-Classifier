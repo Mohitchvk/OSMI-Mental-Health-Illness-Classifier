{
 "cells": [
  {
   "cell_type": "code",
   "execution_count": 3,
   "metadata": {},
   "outputs": [],
   "source": [
    "import pandas as pd\n",
    "import numpy as np\n",
    "from sklearn.metrics import confusion_matrix, accuracy_score, recall_score, precision_score, f1_score, roc_auc_score\n",
    "from sklearn.linear_model import LogisticRegression\n",
    "from sklearn.metrics import roc_curve, auc\n",
    "import matplotlib.pyplot as plt"
   ]
  },
  {
   "attachments": {},
   "cell_type": "markdown",
   "metadata": {},
   "source": [
    "# Load and Preprocess Data"
   ]
  },
  {
   "cell_type": "code",
   "execution_count": 4,
   "metadata": {},
   "outputs": [],
   "source": [
    "df=pd.read_csv('data.csv')"
   ]
  },
  {
   "cell_type": "code",
   "execution_count": 5,
   "metadata": {},
   "outputs": [
    {
     "data": {
      "text/html": [
       "<div>\n",
       "<style scoped>\n",
       "    .dataframe tbody tr th:only-of-type {\n",
       "        vertical-align: middle;\n",
       "    }\n",
       "\n",
       "    .dataframe tbody tr th {\n",
       "        vertical-align: top;\n",
       "    }\n",
       "\n",
       "    .dataframe thead th {\n",
       "        text-align: right;\n",
       "    }\n",
       "</style>\n",
       "<table border=\"1\" class=\"dataframe\">\n",
       "  <thead>\n",
       "    <tr style=\"text-align: right;\">\n",
       "      <th></th>\n",
       "      <th>self_empl_flag</th>\n",
       "      <th>comp_no_empl</th>\n",
       "      <th>tech_comp_flag</th>\n",
       "      <th>mh_coverage_flag</th>\n",
       "      <th>mh_coverage_awareness_flag</th>\n",
       "      <th>mh_employer_discussion</th>\n",
       "      <th>mh_resources_provided</th>\n",
       "      <th>mh_anonimity_flag</th>\n",
       "      <th>mh_medical_leave</th>\n",
       "      <th>mh_discussion_neg_impact</th>\n",
       "      <th>...</th>\n",
       "      <th>mh_family_hist</th>\n",
       "      <th>mh_disorder_past</th>\n",
       "      <th>mh_disorder_current</th>\n",
       "      <th>mh_diagnos_proffesional</th>\n",
       "      <th>mh_sought_proffes_treatm</th>\n",
       "      <th>mh_eff_treat_impact_on_work</th>\n",
       "      <th>mh_not_eff_treat_impact_on_work</th>\n",
       "      <th>sex</th>\n",
       "      <th>remote_flag</th>\n",
       "      <th>tech_flag</th>\n",
       "    </tr>\n",
       "  </thead>\n",
       "  <tbody>\n",
       "    <tr>\n",
       "      <th>0</th>\n",
       "      <td>0.0</td>\n",
       "      <td>2.0</td>\n",
       "      <td>1.0</td>\n",
       "      <td>2.0</td>\n",
       "      <td>1.0</td>\n",
       "      <td>1.0</td>\n",
       "      <td>1.0</td>\n",
       "      <td>0.0</td>\n",
       "      <td>5.0</td>\n",
       "      <td>1.0</td>\n",
       "      <td>...</td>\n",
       "      <td>1.0</td>\n",
       "      <td>2.0</td>\n",
       "      <td>1.0</td>\n",
       "      <td>1.0</td>\n",
       "      <td>0.0</td>\n",
       "      <td>1.0</td>\n",
       "      <td>1.0</td>\n",
       "      <td>0.0</td>\n",
       "      <td>2.0</td>\n",
       "      <td>1</td>\n",
       "    </tr>\n",
       "    <tr>\n",
       "      <th>1</th>\n",
       "      <td>0.0</td>\n",
       "      <td>4.0</td>\n",
       "      <td>1.0</td>\n",
       "      <td>1.0</td>\n",
       "      <td>2.0</td>\n",
       "      <td>2.0</td>\n",
       "      <td>2.0</td>\n",
       "      <td>2.0</td>\n",
       "      <td>3.0</td>\n",
       "      <td>1.0</td>\n",
       "      <td>...</td>\n",
       "      <td>2.0</td>\n",
       "      <td>2.0</td>\n",
       "      <td>2.0</td>\n",
       "      <td>1.0</td>\n",
       "      <td>1.0</td>\n",
       "      <td>3.0</td>\n",
       "      <td>4.0</td>\n",
       "      <td>0.0</td>\n",
       "      <td>1.0</td>\n",
       "      <td>1</td>\n",
       "    </tr>\n",
       "    <tr>\n",
       "      <th>2</th>\n",
       "      <td>0.0</td>\n",
       "      <td>4.0</td>\n",
       "      <td>1.0</td>\n",
       "      <td>1.0</td>\n",
       "      <td>1.0</td>\n",
       "      <td>1.0</td>\n",
       "      <td>1.0</td>\n",
       "      <td>0.0</td>\n",
       "      <td>1.0</td>\n",
       "      <td>0.0</td>\n",
       "      <td>...</td>\n",
       "      <td>1.0</td>\n",
       "      <td>0.0</td>\n",
       "      <td>1.0</td>\n",
       "      <td>0.0</td>\n",
       "      <td>1.0</td>\n",
       "      <td>1.0</td>\n",
       "      <td>1.0</td>\n",
       "      <td>0.0</td>\n",
       "      <td>0.0</td>\n",
       "      <td>1</td>\n",
       "    </tr>\n",
       "    <tr>\n",
       "      <th>3</th>\n",
       "      <td>1.0</td>\n",
       "      <td>2.0</td>\n",
       "      <td>1.0</td>\n",
       "      <td>3.0</td>\n",
       "      <td>1.0</td>\n",
       "      <td>1.0</td>\n",
       "      <td>1.0</td>\n",
       "      <td>0.0</td>\n",
       "      <td>3.0</td>\n",
       "      <td>0.0</td>\n",
       "      <td>...</td>\n",
       "      <td>1.0</td>\n",
       "      <td>2.0</td>\n",
       "      <td>2.0</td>\n",
       "      <td>1.0</td>\n",
       "      <td>1.0</td>\n",
       "      <td>4.0</td>\n",
       "      <td>4.0</td>\n",
       "      <td>0.0</td>\n",
       "      <td>2.0</td>\n",
       "      <td>0</td>\n",
       "    </tr>\n",
       "    <tr>\n",
       "      <th>4</th>\n",
       "      <td>0.0</td>\n",
       "      <td>4.0</td>\n",
       "      <td>0.0</td>\n",
       "      <td>3.0</td>\n",
       "      <td>2.0</td>\n",
       "      <td>1.0</td>\n",
       "      <td>1.0</td>\n",
       "      <td>1.0</td>\n",
       "      <td>1.0</td>\n",
       "      <td>2.0</td>\n",
       "      <td>...</td>\n",
       "      <td>2.0</td>\n",
       "      <td>2.0</td>\n",
       "      <td>2.0</td>\n",
       "      <td>1.0</td>\n",
       "      <td>1.0</td>\n",
       "      <td>4.0</td>\n",
       "      <td>4.0</td>\n",
       "      <td>1.0</td>\n",
       "      <td>2.0</td>\n",
       "      <td>1</td>\n",
       "    </tr>\n",
       "  </tbody>\n",
       "</table>\n",
       "<p>5 rows × 43 columns</p>\n",
       "</div>"
      ],
      "text/plain": [
       "   self_empl_flag  comp_no_empl  tech_comp_flag  mh_coverage_flag  \\\n",
       "0             0.0           2.0             1.0               2.0   \n",
       "1             0.0           4.0             1.0               1.0   \n",
       "2             0.0           4.0             1.0               1.0   \n",
       "3             1.0           2.0             1.0               3.0   \n",
       "4             0.0           4.0             0.0               3.0   \n",
       "\n",
       "   mh_coverage_awareness_flag  mh_employer_discussion  mh_resources_provided  \\\n",
       "0                         1.0                     1.0                    1.0   \n",
       "1                         2.0                     2.0                    2.0   \n",
       "2                         1.0                     1.0                    1.0   \n",
       "3                         1.0                     1.0                    1.0   \n",
       "4                         2.0                     1.0                    1.0   \n",
       "\n",
       "   mh_anonimity_flag  mh_medical_leave  mh_discussion_neg_impact  ...  \\\n",
       "0                0.0               5.0                       1.0  ...   \n",
       "1                2.0               3.0                       1.0  ...   \n",
       "2                0.0               1.0                       0.0  ...   \n",
       "3                0.0               3.0                       0.0  ...   \n",
       "4                1.0               1.0                       2.0  ...   \n",
       "\n",
       "   mh_family_hist  mh_disorder_past  mh_disorder_current  \\\n",
       "0             1.0               2.0                  1.0   \n",
       "1             2.0               2.0                  2.0   \n",
       "2             1.0               0.0                  1.0   \n",
       "3             1.0               2.0                  2.0   \n",
       "4             2.0               2.0                  2.0   \n",
       "\n",
       "   mh_diagnos_proffesional  mh_sought_proffes_treatm  \\\n",
       "0                      1.0                       0.0   \n",
       "1                      1.0                       1.0   \n",
       "2                      0.0                       1.0   \n",
       "3                      1.0                       1.0   \n",
       "4                      1.0                       1.0   \n",
       "\n",
       "   mh_eff_treat_impact_on_work  mh_not_eff_treat_impact_on_work  sex  \\\n",
       "0                          1.0                              1.0  0.0   \n",
       "1                          3.0                              4.0  0.0   \n",
       "2                          1.0                              1.0  0.0   \n",
       "3                          4.0                              4.0  0.0   \n",
       "4                          4.0                              4.0  1.0   \n",
       "\n",
       "   remote_flag  tech_flag  \n",
       "0          2.0          1  \n",
       "1          1.0          1  \n",
       "2          0.0          1  \n",
       "3          2.0          0  \n",
       "4          2.0          1  \n",
       "\n",
       "[5 rows x 43 columns]"
      ]
     },
     "execution_count": 5,
     "metadata": {},
     "output_type": "execute_result"
    }
   ],
   "source": [
    "df.head()"
   ]
  },
  {
   "cell_type": "code",
   "execution_count": 6,
   "metadata": {},
   "outputs": [
    {
     "name": "stdout",
     "output_type": "stream",
     "text": [
      "<class 'pandas.core.frame.DataFrame'>\n",
      "RangeIndex: 1235 entries, 0 to 1234\n",
      "Data columns (total 43 columns):\n",
      " #   Column                           Non-Null Count  Dtype  \n",
      "---  ------                           --------------  -----  \n",
      " 0   self_empl_flag                   1235 non-null   float64\n",
      " 1   comp_no_empl                     1235 non-null   float64\n",
      " 2   tech_comp_flag                   1235 non-null   float64\n",
      " 3   mh_coverage_flag                 1235 non-null   float64\n",
      " 4   mh_coverage_awareness_flag       1235 non-null   float64\n",
      " 5   mh_employer_discussion           1235 non-null   float64\n",
      " 6   mh_resources_provided            1235 non-null   float64\n",
      " 7   mh_anonimity_flag                1235 non-null   float64\n",
      " 8   mh_medical_leave                 1235 non-null   float64\n",
      " 9   mh_discussion_neg_impact         1235 non-null   float64\n",
      " 10  ph_discussion_neg_impact         1235 non-null   float64\n",
      " 11  mh_discussion_cowork             1235 non-null   float64\n",
      " 12  mh_discussion_supervis           1235 non-null   float64\n",
      " 13  mh_eq_ph_employer                1235 non-null   float64\n",
      " 14  mh_conseq_coworkers              1235 non-null   float64\n",
      " 15  prev_employers_flag              1235 non-null   float64\n",
      " 16  prev_mh_benefits                 1235 non-null   float64\n",
      " 17  prev_mh_benefits_awareness       1235 non-null   float64\n",
      " 18  prev_mh_discussion               1235 non-null   float64\n",
      " 19  prev_mh_resources                1235 non-null   float64\n",
      " 20  prev_mh_anonimity                1235 non-null   float64\n",
      " 21  prev_mh_discuss_neg_conseq       1235 non-null   float64\n",
      " 22  prev_ph_discuss_neg_conseq       1235 non-null   float64\n",
      " 23  prev_mh_discussion_cowork        1235 non-null   float64\n",
      " 24  prev_mh_discussion_supervisor    1235 non-null   float64\n",
      " 25  prev_mh_importance_employer      1235 non-null   float64\n",
      " 26  prev_mh_conseq_coworkers         1235 non-null   float64\n",
      " 27  future_ph_specification          1235 non-null   float64\n",
      " 28  future_mh_specification          1235 non-null   float64\n",
      " 29  mh_hurt_on_career                1235 non-null   float64\n",
      " 30  mh_neg_view_cowork               1235 non-null   float64\n",
      " 31  mh_sharing_friends/fam_flag      1235 non-null   float64\n",
      " 32  mh_bad_response_workplace        1235 non-null   float64\n",
      " 33  mh_family_hist                   1235 non-null   float64\n",
      " 34  mh_disorder_past                 1235 non-null   float64\n",
      " 35  mh_disorder_current              1235 non-null   float64\n",
      " 36  mh_diagnos_proffesional          1235 non-null   float64\n",
      " 37  mh_sought_proffes_treatm         1235 non-null   float64\n",
      " 38  mh_eff_treat_impact_on_work      1235 non-null   float64\n",
      " 39  mh_not_eff_treat_impact_on_work  1235 non-null   float64\n",
      " 40  sex                              1235 non-null   float64\n",
      " 41  remote_flag                      1235 non-null   float64\n",
      " 42  tech_flag                        1235 non-null   int64  \n",
      "dtypes: float64(42), int64(1)\n",
      "memory usage: 415.0 KB\n"
     ]
    }
   ],
   "source": [
    "df.info()"
   ]
  },
  {
   "cell_type": "code",
   "execution_count": 7,
   "metadata": {},
   "outputs": [],
   "source": [
    "X=df.drop('mh_disorder_current', axis=1)"
   ]
  },
  {
   "cell_type": "code",
   "execution_count": 8,
   "metadata": {},
   "outputs": [],
   "source": [
    "y=df['mh_disorder_current']"
   ]
  },
  {
   "attachments": {},
   "cell_type": "markdown",
   "metadata": {},
   "source": [
    "# Train Test Split"
   ]
  },
  {
   "cell_type": "code",
   "execution_count": 9,
   "metadata": {},
   "outputs": [],
   "source": [
    "from sklearn.model_selection import train_test_split\n",
    "x_train, x_test, y_train, y_test = train_test_split(X,y, test_size=0.2, random_state=32)"
   ]
  },
  {
   "attachments": {},
   "cell_type": "markdown",
   "metadata": {},
   "source": [
    "# Model Training"
   ]
  },
  {
   "attachments": {},
   "cell_type": "markdown",
   "metadata": {},
   "source": [
    "To calculate confusion_matrix, accuracy_score, recall_score, precision_score, f1_score, roc_auc_score"
   ]
  },
  {
   "cell_type": "code",
   "execution_count": 39,
   "metadata": {},
   "outputs": [],
   "source": [
    "from sklearn.metrics import confusion_matrix, accuracy_score, recall_score, precision_score, f1_score, roc_auc_score\n",
    "from sklearn.multiclass import OneVsRestClassifier\n",
    "from sklearn.preprocessing import label_binarize\n",
    "\n",
    "def train_scores(model, model_name, n_classes, proba=True):\n",
    "    pred = model.predict(x_train)\n",
    "    print('****** For Training on ', model_name, 'Model ******\\n')\n",
    "    \n",
    "    # Print confusion matrix\n",
    "    print('The Confusion Matrix:\\n', confusion_matrix(y_train, pred))\n",
    "    \n",
    "    # Print accuracy score\n",
    "    acc_score = accuracy_score(y_train, pred)\n",
    "    print('\\n The Accuray Score:', acc_score)\n",
    "    \n",
    "    # Print recall score\n",
    "    recall = recall_score(y_train==2, pred==2)\n",
    "    print('\\n The Recall Score:', recall)\n",
    "    \n",
    "    # Print precision score\n",
    "    precision = precision_score(y_train==2, pred==2)\n",
    "    print('\\n The Precision Score:', precision)\n",
    "    \n",
    "    # Print F1 score\n",
    "    f1 = f1_score(y_train==2, pred==2)\n",
    "    print('\\n The F1 Score:', f1)\n",
    "    \n",
    "    # Compute and print ROC AUC score for multiclass classification\n",
    "    y_train_binarized = label_binarize(y_train, classes=range(n_classes))\n",
    "    y_pred_binarized = label_binarize(pred, classes=range(n_classes))\n",
    "    roc_auc = roc_auc_score(y_train_binarized, y_pred_binarized, multi_class='ovr')\n",
    "    print('\\n The ROC AUC Score:', roc_auc)\n",
    "\n",
    "\n",
    "    if(proba==False):\n",
    "        return\n",
    "    y_pred_prob=model.predict_proba(x_train)\n",
    "\n",
    "    fpr = {}\n",
    "    tpr = {}\n",
    "    thresholds = {}\n",
    "    roc_auc = {}\n",
    "    for i in range(y_pred_prob.shape[1]):\n",
    "        fpr[i], tpr[i], thresholds[i] = roc_curve(y_train, y_pred_prob[:, i], pos_label=i)\n",
    "        roc_auc[i] = auc(fpr[i], tpr[i])\n",
    "\n",
    "    # plot ROC curve for each class\n",
    "    plt.figure()\n",
    "    for i in range(y_pred_prob.shape[1]):\n",
    "        plt.plot(fpr[i], tpr[i], label='Class {} (AUC = {:0.2f})'.format(i, roc_auc[i]))\n",
    "\n",
    "    # plot the random guessing line\n",
    "    plt.plot([0, 1], [0, 1], 'k--')\n",
    "\n",
    "    # format the plot\n",
    "    plt.xlabel('False Positive Rate')\n",
    "    plt.ylabel('True Positive Rate')\n",
    "    plt.title('Receiver Operating Characteristic (ROC) Curve')\n",
    "    plt.legend(loc=\"lower right\")\n",
    "    plt.show()\n"
   ]
  },
  {
   "cell_type": "code",
   "execution_count": 42,
   "metadata": {},
   "outputs": [],
   "source": [
    "def test_scores(model, model_name, n_classes, proba=True):\n",
    "    pred = model.predict(x_test)\n",
    "    print('****** For Testing on', model_name, 'Model ******\\n')\n",
    "    \n",
    "    # Print confusion matrix\n",
    "    print('The Confusion Matrix:\\n', confusion_matrix(y_test, pred))\n",
    "    \n",
    "    # Print accuracy score\n",
    "    acc_score = accuracy_score(y_test, pred)\n",
    "    print('\\n The Accuray Score:', acc_score)\n",
    "    \n",
    "    # Print recall score\n",
    "    recall = recall_score(y_test==2, pred==2)\n",
    "    print('\\n The Recall Score:', recall)\n",
    "    \n",
    "    # Print precision score\n",
    "    precision = precision_score(y_test==2, pred==2)\n",
    "    print('\\n The Precision Score:', precision)\n",
    "    \n",
    "    # Print F1 score\n",
    "    f1 = f1_score(y_test==2, pred==2)\n",
    "    print('\\n The F1 Score:', f1)\n",
    "    \n",
    "    # Compute and print ROC AUC score for multiclass classification\n",
    "    y_test_binarized = label_binarize(y_test, classes=range(n_classes))\n",
    "    y_pred_binarized = label_binarize(pred, classes=range(n_classes))\n",
    "    roc_auc = roc_auc_score(y_test_binarized, y_pred_binarized, multi_class='ovr')\n",
    "    print('\\n The ROC AUC Score:', roc_auc)\n",
    "\n",
    "\n",
    "    if(proba==False):\n",
    "        return\n",
    "    y_pred_prob=model.predict_proba(x_test)\n",
    "\n",
    "    fpr = {}\n",
    "    tpr = {}\n",
    "    thresholds = {}\n",
    "    roc_auc = {}\n",
    "    for i in range(y_pred_prob.shape[1]):\n",
    "        fpr[i], tpr[i], thresholds[i] = roc_curve(y_test, y_pred_prob[:, i], pos_label=i)\n",
    "        roc_auc[i] = auc(fpr[i], tpr[i])\n",
    "\n",
    "    # plot ROC curve for each class\n",
    "    plt.figure()\n",
    "    for i in range(y_pred_prob.shape[1]):\n",
    "        plt.plot(fpr[i], tpr[i], label='Class {} (AUC = {:0.2f})'.format(i, roc_auc[i]))\n",
    "\n",
    "    # plot the random guessing line\n",
    "    plt.plot([0, 1], [0, 1], 'k--')\n",
    "\n",
    "    # format the plot\n",
    "    plt.xlabel('False Positive Rate')\n",
    "    plt.ylabel('True Positive Rate')\n",
    "    plt.title('Receiver Operating Characteristic (ROC) Curve')\n",
    "    plt.legend(loc=\"lower right\")\n",
    "    plt.show()\n",
    "\n"
   ]
  },
  {
   "attachments": {},
   "cell_type": "markdown",
   "metadata": {},
   "source": [
    "# Logistic Regression"
   ]
  },
  {
   "cell_type": "code",
   "execution_count": 12,
   "metadata": {},
   "outputs": [
    {
     "name": "stdout",
     "output_type": "stream",
     "text": [
      "****** For Training on  Logistic Regression Model ******\n",
      "\n",
      "The Confusion Matrix:\n",
      " [[104  44  65]\n",
      " [ 27 281  48]\n",
      " [ 24  17 378]]\n",
      "\n",
      " The Accuray Score: 0.7722672064777328\n",
      "\n",
      " The Recall Score: 0.9021479713603818\n",
      "\n",
      " The Precision Score: 0.769857433808554\n",
      "\n",
      " The F1 Score: 0.8307692307692308\n",
      "\n",
      " The ROC AUC Score: 0.8031362102159814\n"
     ]
    },
    {
     "data": {
      "image/png": "[encoded data removed]",
      "text/plain": [
       "<Figure size 432x288 with 1 Axes>"
      ]
     },
     "metadata": {
      "needs_background": "light"
     },
     "output_type": "display_data"
    }
   ],
   "source": [
    "model = LogisticRegression(max_iter=10000)\n",
    "model.fit(x_train,y_train)\n",
    "train_scores(model,'Logistic Regression',3)"
   ]
  },
  {
   "cell_type": "code",
   "execution_count": 13,
   "metadata": {},
   "outputs": [
    {
     "name": "stdout",
     "output_type": "stream",
     "text": [
      "****** For Testing on Logistic Regression Model ******\n",
      "\n",
      "The Confusion Matrix:\n",
      " [[26 15 19]\n",
      " [ 0 64 15]\n",
      " [10  8 90]]\n",
      "\n",
      " The Accuray Score: 0.728744939271255\n",
      "\n",
      " The Recall Score: 0.8333333333333334\n",
      "\n",
      " The Precision Score: 0.7258064516129032\n",
      "\n",
      " The F1 Score: 0.7758620689655172\n",
      "\n",
      " The ROC AUC Score: 0.7736347057774577\n"
     ]
    },
    {
     "data": {
      "image/png": "[encoded data removed]",
      "text/plain": [
       "<Figure size 432x288 with 1 Axes>"
      ]
     },
     "metadata": {
      "needs_background": "light"
     },
     "output_type": "display_data"
    }
   ],
   "source": [
    "test_scores(model,'Logistic Regression',3)"
   ]
  },
  {
   "attachments": {},
   "cell_type": "markdown",
   "metadata": {},
   "source": [
    "# Random Forest"
   ]
  },
  {
   "cell_type": "code",
   "execution_count": 14,
   "metadata": {},
   "outputs": [],
   "source": [
    "from sklearn.ensemble import RandomForestClassifier\n",
    "from sklearn.model_selection import RandomizedSearchCV"
   ]
  },
  {
   "cell_type": "code",
   "execution_count": 15,
   "metadata": {},
   "outputs": [
    {
     "data": {
      "text/html": [
       "<style>#sk-container-id-1 {color: black;background-color: white;}#sk-container-id-1 pre{padding: 0;}#sk-container-id-1 div.sk-toggleable {background-color: white;}#sk-container-id-1 label.sk-toggleable__label {cursor: pointer;display: block;width: 100%;margin-bottom: 0;padding: 0.3em;box-sizing: border-box;text-align: center;}#sk-container-id-1 label.sk-toggleable__label-arrow:before {content: \"▸\";float: left;margin-right: 0.25em;color: #696969;}#sk-container-id-1 label.sk-toggleable__label-arrow:hover:before {color: black;}#sk-container-id-1 div.sk-estimator:hover label.sk-toggleable__label-arrow:before {color: black;}#sk-container-id-1 div.sk-toggleable__content {max-height: 0;max-width: 0;overflow: hidden;text-align: left;background-color: #f0f8ff;}#sk-container-id-1 div.sk-toggleable__content pre {margin: 0.2em;color: black;border-radius: 0.25em;background-color: #f0f8ff;}#sk-container-id-1 input.sk-toggleable__control:checked~div.sk-toggleable__content {max-height: 200px;max-width: 100%;overflow: auto;}#sk-container-id-1 input.sk-toggleable__control:checked~label.sk-toggleable__label-arrow:before {content: \"▾\";}#sk-container-id-1 div.sk-estimator input.sk-toggleable__control:checked~label.sk-toggleable__label {background-color: #d4ebff;}#sk-container-id-1 div.sk-label input.sk-toggleable__control:checked~label.sk-toggleable__label {background-color: #d4ebff;}#sk-container-id-1 input.sk-hidden--visually {border: 0;clip: rect(1px 1px 1px 1px);clip: rect(1px, 1px, 1px, 1px);height: 1px;margin: -1px;overflow: hidden;padding: 0;position: absolute;width: 1px;}#sk-container-id-1 div.sk-estimator {font-family: monospace;background-color: #f0f8ff;border: 1px dotted black;border-radius: 0.25em;box-sizing: border-box;margin-bottom: 0.5em;}#sk-container-id-1 div.sk-estimator:hover {background-color: #d4ebff;}#sk-container-id-1 div.sk-parallel-item::after {content: \"\";width: 100%;border-bottom: 1px solid gray;flex-grow: 1;}#sk-container-id-1 div.sk-label:hover label.sk-toggleable__label {background-color: #d4ebff;}#sk-container-id-1 div.sk-serial::before {content: \"\";position: absolute;border-left: 1px solid gray;box-sizing: border-box;top: 0;bottom: 0;left: 50%;z-index: 0;}#sk-container-id-1 div.sk-serial {display: flex;flex-direction: column;align-items: center;background-color: white;padding-right: 0.2em;padding-left: 0.2em;position: relative;}#sk-container-id-1 div.sk-item {position: relative;z-index: 1;}#sk-container-id-1 div.sk-parallel {display: flex;align-items: stretch;justify-content: center;background-color: white;position: relative;}#sk-container-id-1 div.sk-item::before, #sk-container-id-1 div.sk-parallel-item::before {content: \"\";position: absolute;border-left: 1px solid gray;box-sizing: border-box;top: 0;bottom: 0;left: 50%;z-index: -1;}#sk-container-id-1 div.sk-parallel-item {display: flex;flex-direction: column;z-index: 1;position: relative;background-color: white;}#sk-container-id-1 div.sk-parallel-item:first-child::after {align-self: flex-end;width: 50%;}#sk-container-id-1 div.sk-parallel-item:last-child::after {align-self: flex-start;width: 50%;}#sk-container-id-1 div.sk-parallel-item:only-child::after {width: 0;}#sk-container-id-1 div.sk-dashed-wrapped {border: 1px dashed gray;margin: 0 0.4em 0.5em 0.4em;box-sizing: border-box;padding-bottom: 0.4em;background-color: white;}#sk-container-id-1 div.sk-label label {font-family: monospace;font-weight: bold;display: inline-block;line-height: 1.2em;}#sk-container-id-1 div.sk-label-container {text-align: center;}#sk-container-id-1 div.sk-container {/* jupyter's `normalize.less` sets `[hidden] { display: none; }` but bootstrap.min.css set `[hidden] { display: none !important; }` so we also need the `!important` here to be able to override the default hidden behavior on the sphinx rendered scikit-learn.org. See: https://github.com/scikit-learn/scikit-learn/issues/21755 */display: inline-block !important;position: relative;}#sk-container-id-1 div.sk-text-repr-fallback {display: none;}</style><div id=\"sk-container-id-1\" class=\"sk-top-container\"><div class=\"sk-text-repr-fallback\"><pre>RandomizedSearchCV(cv=5, estimator=RandomForestClassifier(), n_iter=5,\n",
       "                   param_distributions={&#x27;max_depth&#x27;: range(1, 20),\n",
       "                                        &#x27;n_estimators&#x27;: range(1, 100)})</pre><b>In a Jupyter environment, please rerun this cell to show the HTML representation or trust the notebook. <br />On GitHub, the HTML representation is unable to render, please try loading this page with nbviewer.org.</b></div><div class=\"sk-container\" hidden><div class=\"sk-item sk-dashed-wrapped\"><div class=\"sk-label-container\"><div class=\"sk-label sk-toggleable\"><input class=\"sk-toggleable__control sk-hidden--visually\" id=\"sk-estimator-id-1\" type=\"checkbox\" ><label for=\"sk-estimator-id-1\" class=\"sk-toggleable__label sk-toggleable__label-arrow\">RandomizedSearchCV</label><div class=\"sk-toggleable__content\"><pre>RandomizedSearchCV(cv=5, estimator=RandomForestClassifier(), n_iter=5,\n",
       "                   param_distributions={&#x27;max_depth&#x27;: range(1, 20),\n",
       "                                        &#x27;n_estimators&#x27;: range(1, 100)})</pre></div></div></div><div class=\"sk-parallel\"><div class=\"sk-parallel-item\"><div class=\"sk-item\"><div class=\"sk-label-container\"><div class=\"sk-label sk-toggleable\"><input class=\"sk-toggleable__control sk-hidden--visually\" id=\"sk-estimator-id-2\" type=\"checkbox\" ><label for=\"sk-estimator-id-2\" class=\"sk-toggleable__label sk-toggleable__label-arrow\">estimator: RandomForestClassifier</label><div class=\"sk-toggleable__content\"><pre>RandomForestClassifier()</pre></div></div></div><div class=\"sk-serial\"><div class=\"sk-item\"><div class=\"sk-estimator sk-toggleable\"><input class=\"sk-toggleable__control sk-hidden--visually\" id=\"sk-estimator-id-3\" type=\"checkbox\" ><label for=\"sk-estimator-id-3\" class=\"sk-toggleable__label sk-toggleable__label-arrow\">RandomForestClassifier</label><div class=\"sk-toggleable__content\"><pre>RandomForestClassifier()</pre></div></div></div></div></div></div></div></div></div></div>"
      ],
      "text/plain": [
       "RandomizedSearchCV(cv=5, estimator=RandomForestClassifier(), n_iter=5,\n",
       "                   param_distributions={'max_depth': range(1, 20),\n",
       "                                        'n_estimators': range(1, 100)})"
      ]
     },
     "execution_count": 15,
     "metadata": {},
     "output_type": "execute_result"
    }
   ],
   "source": [
    "param_dist = {'n_estimators': range(1,100),\n",
    "              'max_depth': range(1,20)}\n",
    "\n",
    "# Create a random forest classifier\n",
    "rf = RandomForestClassifier()\n",
    "\n",
    "# Use random search to find the best hyperparameters\n",
    "rand_search = RandomizedSearchCV(rf, \n",
    "                                 param_distributions = param_dist, \n",
    "                                 n_iter=5, \n",
    "                                 cv=5)\n",
    "\n",
    "# Fit the random search object to the data\n",
    "rand_search.fit(x_train, y_train)\n"
   ]
  },
  {
   "cell_type": "code",
   "execution_count": 17,
   "metadata": {},
   "outputs": [
    {
     "name": "stdout",
     "output_type": "stream",
     "text": [
      "Best hyperparameters: {'n_estimators': 63, 'max_depth': 10}\n"
     ]
    }
   ],
   "source": [
    "best_rf = rand_search.best_estimator_\n",
    "print('Best hyperparameters:',  rand_search.best_params_)\n"
   ]
  },
  {
   "cell_type": "code",
   "execution_count": 19,
   "metadata": {},
   "outputs": [
    {
     "name": "stdout",
     "output_type": "stream",
     "text": [
      "****** For Training on  Random Forest Model ******\n",
      "\n",
      "The Confusion Matrix:\n",
      " [[194   1  18]\n",
      " [  1 338  17]\n",
      " [  0   0 419]]\n",
      "\n",
      " The Accuray Score: 0.9625506072874493\n",
      "\n",
      " The Recall Score: 1.0\n",
      "\n",
      " The Precision Score: 0.9229074889867841\n",
      "\n",
      " The F1 Score: 0.9599083619702177\n",
      "\n",
      " The ROC AUC Score: 0.9659753832835288\n"
     ]
    },
    {
     "data": {
      "image/png": "[encoded data removed]",
      "text/plain": [
       "<Figure size 432x288 with 1 Axes>"
      ]
     },
     "metadata": {
      "needs_background": "light"
     },
     "output_type": "display_data"
    }
   ],
   "source": [
    "train_scores(best_rf,'Random Forest',3)"
   ]
  },
  {
   "cell_type": "code",
   "execution_count": 21,
   "metadata": {},
   "outputs": [
    {
     "name": "stdout",
     "output_type": "stream",
     "text": [
      "****** For Testing on Random Forest Model ******\n",
      "\n",
      "The Confusion Matrix:\n",
      " [[ 26   8  26]\n",
      " [  4  63  12]\n",
      " [  3   2 103]]\n",
      "\n",
      " The Accuray Score: 0.7773279352226721\n",
      "\n",
      " The Recall Score: 0.9537037037037037\n",
      "\n",
      " The Precision Score: 0.7304964539007093\n",
      "\n",
      " The F1 Score: 0.8273092369477912\n",
      "\n",
      " The ROC AUC Score: 0.8023611886498939\n"
     ]
    },
    {
     "data": {
      "image/png": "[encoded data removed]",
      "text/plain": [
       "<Figure size 432x288 with 1 Axes>"
      ]
     },
     "metadata": {
      "needs_background": "light"
     },
     "output_type": "display_data"
    }
   ],
   "source": [
    "test_scores(best_rf,'Random Forest',3)"
   ]
  },
  {
   "attachments": {},
   "cell_type": "markdown",
   "metadata": {},
   "source": [
    "# Support Vector Classifier"
   ]
  },
  {
   "cell_type": "code",
   "execution_count": 22,
   "metadata": {},
   "outputs": [],
   "source": [
    "from sklearn.svm import SVC"
   ]
  },
  {
   "cell_type": "code",
   "execution_count": 36,
   "metadata": {},
   "outputs": [
    {
     "name": "stderr",
     "output_type": "stream",
     "text": [
      "e:\\anaconda3\\envs\\mohit_chodisetti\\lib\\site-packages\\sklearn\\model_selection\\_search.py:305: UserWarning: The total space of parameters 4 is smaller than n_iter=5. Running 4 iterations. For exhaustive searches, use GridSearchCV.\n",
      "  warnings.warn(\n"
     ]
    },
    {
     "data": {
      "text/html": [
       "<style>#sk-container-id-9 {color: black;background-color: white;}#sk-container-id-9 pre{padding: 0;}#sk-container-id-9 div.sk-toggleable {background-color: white;}#sk-container-id-9 label.sk-toggleable__label {cursor: pointer;display: block;width: 100%;margin-bottom: 0;padding: 0.3em;box-sizing: border-box;text-align: center;}#sk-container-id-9 label.sk-toggleable__label-arrow:before {content: \"▸\";float: left;margin-right: 0.25em;color: #696969;}#sk-container-id-9 label.sk-toggleable__label-arrow:hover:before {color: black;}#sk-container-id-9 div.sk-estimator:hover label.sk-toggleable__label-arrow:before {color: black;}#sk-container-id-9 div.sk-toggleable__content {max-height: 0;max-width: 0;overflow: hidden;text-align: left;background-color: #f0f8ff;}#sk-container-id-9 div.sk-toggleable__content pre {margin: 0.2em;color: black;border-radius: 0.25em;background-color: #f0f8ff;}#sk-container-id-9 input.sk-toggleable__control:checked~div.sk-toggleable__content {max-height: 200px;max-width: 100%;overflow: auto;}#sk-container-id-9 input.sk-toggleable__control:checked~label.sk-toggleable__label-arrow:before {content: \"▾\";}#sk-container-id-9 div.sk-estimator input.sk-toggleable__control:checked~label.sk-toggleable__label {background-color: #d4ebff;}#sk-container-id-9 div.sk-label input.sk-toggleable__control:checked~label.sk-toggleable__label {background-color: #d4ebff;}#sk-container-id-9 input.sk-hidden--visually {border: 0;clip: rect(1px 1px 1px 1px);clip: rect(1px, 1px, 1px, 1px);height: 1px;margin: -1px;overflow: hidden;padding: 0;position: absolute;width: 1px;}#sk-container-id-9 div.sk-estimator {font-family: monospace;background-color: #f0f8ff;border: 1px dotted black;border-radius: 0.25em;box-sizing: border-box;margin-bottom: 0.5em;}#sk-container-id-9 div.sk-estimator:hover {background-color: #d4ebff;}#sk-container-id-9 div.sk-parallel-item::after {content: \"\";width: 100%;border-bottom: 1px solid gray;flex-grow: 1;}#sk-container-id-9 div.sk-label:hover label.sk-toggleable__label {background-color: #d4ebff;}#sk-container-id-9 div.sk-serial::before {content: \"\";position: absolute;border-left: 1px solid gray;box-sizing: border-box;top: 0;bottom: 0;left: 50%;z-index: 0;}#sk-container-id-9 div.sk-serial {display: flex;flex-direction: column;align-items: center;background-color: white;padding-right: 0.2em;padding-left: 0.2em;position: relative;}#sk-container-id-9 div.sk-item {position: relative;z-index: 1;}#sk-container-id-9 div.sk-parallel {display: flex;align-items: stretch;justify-content: center;background-color: white;position: relative;}#sk-container-id-9 div.sk-item::before, #sk-container-id-9 div.sk-parallel-item::before {content: \"\";position: absolute;border-left: 1px solid gray;box-sizing: border-box;top: 0;bottom: 0;left: 50%;z-index: -1;}#sk-container-id-9 div.sk-parallel-item {display: flex;flex-direction: column;z-index: 1;position: relative;background-color: white;}#sk-container-id-9 div.sk-parallel-item:first-child::after {align-self: flex-end;width: 50%;}#sk-container-id-9 div.sk-parallel-item:last-child::after {align-self: flex-start;width: 50%;}#sk-container-id-9 div.sk-parallel-item:only-child::after {width: 0;}#sk-container-id-9 div.sk-dashed-wrapped {border: 1px dashed gray;margin: 0 0.4em 0.5em 0.4em;box-sizing: border-box;padding-bottom: 0.4em;background-color: white;}#sk-container-id-9 div.sk-label label {font-family: monospace;font-weight: bold;display: inline-block;line-height: 1.2em;}#sk-container-id-9 div.sk-label-container {text-align: center;}#sk-container-id-9 div.sk-container {/* jupyter's `normalize.less` sets `[hidden] { display: none; }` but bootstrap.min.css set `[hidden] { display: none !important; }` so we also need the `!important` here to be able to override the default hidden behavior on the sphinx rendered scikit-learn.org. See: https://github.com/scikit-learn/scikit-learn/issues/21755 */display: inline-block !important;position: relative;}#sk-container-id-9 div.sk-text-repr-fallback {display: none;}</style><div id=\"sk-container-id-9\" class=\"sk-top-container\"><div class=\"sk-text-repr-fallback\"><pre>RandomizedSearchCV(cv=5, estimator=SVC(), n_iter=5,\n",
       "                   param_distributions={&#x27;kernel&#x27;: [&#x27;poly&#x27;, &#x27;rbf&#x27;, &#x27;linear&#x27;,\n",
       "                                                   &#x27;sigmoid&#x27;]})</pre><b>In a Jupyter environment, please rerun this cell to show the HTML representation or trust the notebook. <br />On GitHub, the HTML representation is unable to render, please try loading this page with nbviewer.org.</b></div><div class=\"sk-container\" hidden><div class=\"sk-item sk-dashed-wrapped\"><div class=\"sk-label-container\"><div class=\"sk-label sk-toggleable\"><input class=\"sk-toggleable__control sk-hidden--visually\" id=\"sk-estimator-id-25\" type=\"checkbox\" ><label for=\"sk-estimator-id-25\" class=\"sk-toggleable__label sk-toggleable__label-arrow\">RandomizedSearchCV</label><div class=\"sk-toggleable__content\"><pre>RandomizedSearchCV(cv=5, estimator=SVC(), n_iter=5,\n",
       "                   param_distributions={&#x27;kernel&#x27;: [&#x27;poly&#x27;, &#x27;rbf&#x27;, &#x27;linear&#x27;,\n",
       "                                                   &#x27;sigmoid&#x27;]})</pre></div></div></div><div class=\"sk-parallel\"><div class=\"sk-parallel-item\"><div class=\"sk-item\"><div class=\"sk-label-container\"><div class=\"sk-label sk-toggleable\"><input class=\"sk-toggleable__control sk-hidden--visually\" id=\"sk-estimator-id-26\" type=\"checkbox\" ><label for=\"sk-estimator-id-26\" class=\"sk-toggleable__label sk-toggleable__label-arrow\">estimator: SVC</label><div class=\"sk-toggleable__content\"><pre>SVC()</pre></div></div></div><div class=\"sk-serial\"><div class=\"sk-item\"><div class=\"sk-estimator sk-toggleable\"><input class=\"sk-toggleable__control sk-hidden--visually\" id=\"sk-estimator-id-27\" type=\"checkbox\" ><label for=\"sk-estimator-id-27\" class=\"sk-toggleable__label sk-toggleable__label-arrow\">SVC</label><div class=\"sk-toggleable__content\"><pre>SVC()</pre></div></div></div></div></div></div></div></div></div></div>"
      ],
      "text/plain": [
       "RandomizedSearchCV(cv=5, estimator=SVC(), n_iter=5,\n",
       "                   param_distributions={'kernel': ['poly', 'rbf', 'linear',\n",
       "                                                   'sigmoid']})"
      ]
     },
     "execution_count": 36,
     "metadata": {},
     "output_type": "execute_result"
    }
   ],
   "source": [
    "param_dist = {'kernel': [ 'poly', 'rbf', 'linear', 'sigmoid']}\n",
    "# ,, \n",
    "# Create a random forest classifier\n",
    "model = SVC()\n",
    "\n",
    "# Use random search to find the best hyperparameters\n",
    "rand_search = RandomizedSearchCV(model,\n",
    "                                 param_distributions=param_dist,\n",
    "                                 n_iter=5,\n",
    "                                 cv=5)\n",
    "\n",
    "# Fit the random search object to the data\n",
    "rand_search.fit(x_train, y_train)\n"
   ]
  },
  {
   "cell_type": "code",
   "execution_count": 37,
   "metadata": {},
   "outputs": [
    {
     "name": "stdout",
     "output_type": "stream",
     "text": [
      "Best hyperparameters: {'kernel': 'rbf'}\n"
     ]
    }
   ],
   "source": [
    "best_rf = rand_search.best_estimator_\n",
    "print('Best hyperparameters:',  rand_search.best_params_)\n"
   ]
  },
  {
   "cell_type": "code",
   "execution_count": 40,
   "metadata": {},
   "outputs": [
    {
     "name": "stdout",
     "output_type": "stream",
     "text": [
      "****** For Training on  SVC Model ******\n",
      "\n",
      "The Confusion Matrix:\n",
      " [[110  33  70]\n",
      " [ 22 281  53]\n",
      " [ 15   4 400]]\n",
      "\n",
      " The Accuray Score: 0.8006072874493927\n",
      "\n",
      " The Recall Score: 0.954653937947494\n",
      "\n",
      " The Precision Score: 0.7648183556405354\n",
      "\n",
      " The F1 Score: 0.8492569002123143\n",
      "\n",
      " The ROC AUC Score: 0.8229927915329935\n"
     ]
    }
   ],
   "source": [
    "train_scores(best_rf,'SVC',3, proba=False)"
   ]
  },
  {
   "cell_type": "code",
   "execution_count": 43,
   "metadata": {},
   "outputs": [
    {
     "name": "stdout",
     "output_type": "stream",
     "text": [
      "****** For Testing on SVC Model ******\n",
      "\n",
      "The Confusion Matrix:\n",
      " [[24 12 24]\n",
      " [ 1 63 15]\n",
      " [ 5  4 99]]\n",
      "\n",
      " The Accuray Score: 0.7530364372469636\n",
      "\n",
      " The Recall Score: 0.9166666666666666\n",
      "\n",
      " The Precision Score: 0.717391304347826\n",
      "\n",
      " The F1 Score: 0.8048780487804877\n",
      "\n",
      " The ROC AUC Score: 0.7843726374655465\n"
     ]
    }
   ],
   "source": [
    "test_scores(best_rf,'SVC',3, proba=False)"
   ]
  },
  {
   "attachments": {},
   "cell_type": "markdown",
   "metadata": {},
   "source": [
    "# Gradient Boosting Machines"
   ]
  },
  {
   "cell_type": "code",
   "execution_count": null,
   "metadata": {},
   "outputs": [],
   "source": []
  }
 ],
 "metadata": {
  "kernelspec": {
   "display_name": "mohit_chodisetti",
   "language": "python",
   "name": "python3"
  },
  "language_info": {
   "codemirror_mode": {
    "name": "ipython",
    "version": 3
   },
   "file_extension": ".py",
   "mimetype": "text/x-python",
   "name": "python",
   "nbconvert_exporter": "python",
   "pygments_lexer": "ipython3",
   "version": "3.8.0"
  },
  "orig_nbformat": 4
 },
 "nbformat": 4,
 "nbformat_minor": 2
}
